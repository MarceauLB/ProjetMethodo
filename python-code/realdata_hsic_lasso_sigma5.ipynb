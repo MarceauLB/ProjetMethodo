{
  "cells": [
    {
      "cell_type": "markdown",
      "metadata": {
        "id": "G8luBJm6Plge"
      },
      "source": [
        "### HISC-Lasso: Calcul du score RED pour $m=50$ et MCAcc"
      ]
    },
    {
      "cell_type": "code",
      "execution_count": 58,
      "metadata": {
        "colab": {
          "base_uri": "https://localhost:8080/"
        },
        "id": "vIuc0IUMW0os",
        "outputId": "d45308bf-0271-4e8e-8b83-3f6979902fbd"
      },
      "outputs": [
        {
          "name": "stdout",
          "output_type": "stream",
          "text": [
            "Requirement already satisfied: pyHSICLasso in /usr/local/lib/python3.11/dist-packages (1.4.2)\n",
            "Requirement already satisfied: future in /usr/local/lib/python3.11/dist-packages (from pyHSICLasso) (1.0.0)\n",
            "Requirement already satisfied: matplotlib in /usr/local/lib/python3.11/dist-packages (from pyHSICLasso) (3.10.0)\n",
            "Requirement already satisfied: numpy in /usr/local/lib/python3.11/dist-packages (from pyHSICLasso) (2.0.2)\n",
            "Requirement already satisfied: pandas in /usr/local/lib/python3.11/dist-packages (from pyHSICLasso) (2.2.2)\n",
            "Requirement already satisfied: pytest in /usr/local/lib/python3.11/dist-packages (from pyHSICLasso) (8.3.5)\n",
            "Requirement already satisfied: scipy in /usr/local/lib/python3.11/dist-packages (from pyHSICLasso) (1.14.1)\n",
            "Requirement already satisfied: six in /usr/local/lib/python3.11/dist-packages (from pyHSICLasso) (1.17.0)\n",
            "Requirement already satisfied: seaborn in /usr/local/lib/python3.11/dist-packages (from pyHSICLasso) (0.13.2)\n",
            "Requirement already satisfied: joblib in /usr/local/lib/python3.11/dist-packages (from pyHSICLasso) (1.4.2)\n",
            "Requirement already satisfied: contourpy>=1.0.1 in /usr/local/lib/python3.11/dist-packages (from matplotlib->pyHSICLasso) (1.3.1)\n",
            "Requirement already satisfied: cycler>=0.10 in /usr/local/lib/python3.11/dist-packages (from matplotlib->pyHSICLasso) (0.12.1)\n",
            "Requirement already satisfied: fonttools>=4.22.0 in /usr/local/lib/python3.11/dist-packages (from matplotlib->pyHSICLasso) (4.56.0)\n",
            "Requirement already satisfied: kiwisolver>=1.3.1 in /usr/local/lib/python3.11/dist-packages (from matplotlib->pyHSICLasso) (1.4.8)\n",
            "Requirement already satisfied: packaging>=20.0 in /usr/local/lib/python3.11/dist-packages (from matplotlib->pyHSICLasso) (24.2)\n",
            "Requirement already satisfied: pillow>=8 in /usr/local/lib/python3.11/dist-packages (from matplotlib->pyHSICLasso) (11.1.0)\n",
            "Requirement already satisfied: pyparsing>=2.3.1 in /usr/local/lib/python3.11/dist-packages (from matplotlib->pyHSICLasso) (3.2.1)\n",
            "Requirement already satisfied: python-dateutil>=2.7 in /usr/local/lib/python3.11/dist-packages (from matplotlib->pyHSICLasso) (2.8.2)\n",
            "Requirement already satisfied: pytz>=2020.1 in /usr/local/lib/python3.11/dist-packages (from pandas->pyHSICLasso) (2025.1)\n",
            "Requirement already satisfied: tzdata>=2022.7 in /usr/local/lib/python3.11/dist-packages (from pandas->pyHSICLasso) (2025.1)\n",
            "Requirement already satisfied: iniconfig in /usr/local/lib/python3.11/dist-packages (from pytest->pyHSICLasso) (2.0.0)\n",
            "Requirement already satisfied: pluggy<2,>=1.5 in /usr/local/lib/python3.11/dist-packages (from pytest->pyHSICLasso) (1.5.0)\n"
          ]
        }
      ],
      "source": [
        "# install pyhsic lasso\n",
        "!pip install pyHSICLasso"
      ]
    },
    {
      "cell_type": "code",
      "execution_count": 59,
      "metadata": {
        "id": "Z2nFcp_PXhs5"
      },
      "outputs": [],
      "source": [
        "import numpy as np\n",
        "import pandas as pd\n",
        "from pyHSICLasso import HSICLasso\n",
        "from sklearn.gaussian_process import GaussianProcessClassifier\n",
        "from sklearn.preprocessing import StandardScaler\n",
        "from sklearn.gaussian_process.kernels import RBF\n",
        "from sklearn.metrics import accuracy_score"
      ]
    },
    {
      "cell_type": "code",
      "execution_count": 61,
      "metadata": {
        "id": "2B7BMiUZT-8L"
      },
      "outputs": [],
      "source": [
        "# data process\n",
        "X = pd.read_csv(\"ar10p.csv\")\n",
        "n, p = X.shape\n",
        "p -= 1\n",
        "Y = X.iloc[:, p].values\n",
        "X = X.iloc[:, :p].values\n",
        "\n",
        "#standardisation des données\n",
        "scaler = StandardScaler()\n",
        "X = scaler.fit_transform(X)"
      ]
    },
    {
      "cell_type": "code",
      "execution_count": null,
      "metadata": {
        "id": "nkS6juNyYV_L"
      },
      "outputs": [],
      "source": [
        "rep = 50\n",
        "features_index = np.arange(10, 51, 10)\n",
        "top_m = features_index[-1]\n",
        "MCAcc = np.zeros((len(features_index), rep))"
      ]
    },
    {
      "cell_type": "code",
      "execution_count": null,
      "metadata": {
        "colab": {
          "base_uri": "https://localhost:8080/"
        },
        "id": "8S3O0D-dUMO3",
        "outputId": "13110153-65ab-45e6-aed1-5da7b636ab43"
      },
      "outputs": [
        {
          "name": "stdout",
          "output_type": "stream",
          "text": [
            "0\n",
            "Block HSIC Lasso B = 20.\n",
            "M set to 3.\n",
            "Using Gaussian kernel for the features, Delta kernel for the outcomes.\n"
          ]
        },
        {
          "name": "stderr",
          "output_type": "stream",
          "text": [
            "/usr/local/lib/python3.11/dist-packages/pyHSICLasso/api.py:107: RuntimeWarning: B 20 must be an exact divisor of the number of samples 104. Number of blocks 5.2 will be approximated to 5.\n",
            "  warnings.warn(msg, RuntimeWarning)\n"
          ]
        }
      ],
      "source": [
        "for i in range(rep):\n",
        "    print(i)\n",
        "    x_index = np.random.choice(n, size=int(n * 0.8), replace=False)\n",
        "    X_train, Y_train = X[x_index], Y[x_index]\n",
        "    X_test, Y_test = np.delete(X, x_index, axis=0), np.delete(Y, x_index)\n",
        "\n",
        "    # Sélection de variables avec HSIC Lasso\n",
        "    hsic_lasso = HSICLasso()\n",
        "    hsic_lasso.input(X_train, Y_train,kernelX=\"Gaussian\",sigmaX=0.5,kernelY=\"Delta\")\n",
        "\n",
        "    hsic_lasso.classification(num_feat=top_m)\n",
        "    ModelFeatureIndex = hsic_lasso.get_index()\n",
        "\n",
        "    for m_index, nb_features in enumerate(features_index):\n",
        "        x_features = ModelFeatureIndex[:nb_features]\n",
        "\n",
        "        # Modèle de classification\n",
        "        kernel = 1.0 * RBF(0.1)\n",
        "        model = GaussianProcessClassifier(kernel=kernel,multi_class=\"one_vs_one\")\n",
        "        model.fit(X_train[:, x_features], Y_train)\n",
        "\n",
        "        # Prédiction et évaluation\n",
        "        y_pred = model.predict(X_test[:, x_features])\n",
        "        MCAcc[m_index, i] = accuracy_score(Y_test, y_pred)"
      ]
    },
    {
      "cell_type": "code",
      "execution_count": null,
      "metadata": {
        "id": "wp2QahicUXHr"
      },
      "outputs": [],
      "source": [
        "# Résultats statistiques\n",
        "rmean = MCAcc.mean(axis=1)\n",
        "\n",
        "# Visualisation\n",
        "import matplotlib.pyplot as plt\n",
        "plt.plot(features_index, rmean, color='cyan', linestyle='-', marker='o')\n",
        "plt.ylim(0, 1)\n",
        "plt.show()"
      ]
    },
    {
      "cell_type": "code",
      "execution_count": null,
      "metadata": {
        "id": "Xaj_977RZvXN"
      },
      "outputs": [],
      "source": [
        "# Sauvegarde des résultats\n",
        "np.savetxt(\"hsic_sigma_value.csv\", MCAcc, delimiter=\",\")"
      ]
    }
  ],
  "metadata": {
    "colab": {
      "provenance": []
    },
    "kernelspec": {
      "display_name": "Python 3",
      "name": "python3"
    },
    "language_info": {
      "name": "python"
    }
  },
  "nbformat": 4,
  "nbformat_minor": 0
}
