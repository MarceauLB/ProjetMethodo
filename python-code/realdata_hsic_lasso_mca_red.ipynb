{
  "nbformat": 4,
  "nbformat_minor": 0,
  "metadata": {
    "colab": {
      "provenance": []
    },
    "kernelspec": {
      "name": "python3",
      "display_name": "Python 3"
    },
    "language_info": {
      "name": "python"
    }
  },
  "cells": [
    {
      "cell_type": "markdown",
      "source": [
        "### HISC-Lasso: Calcul du score RED pour $m=50$ et MCAcc"
      ],
      "metadata": {
        "id": "G8luBJm6Plge"
      }
    },
    {
      "cell_type": "code",
      "execution_count": 118,
      "metadata": {
        "colab": {
          "base_uri": "https://localhost:8080/"
        },
        "id": "vIuc0IUMW0os",
        "outputId": "a73804dc-c3b9-4c0f-9c3c-d4ebaf656b8b"
      },
      "outputs": [
        {
          "output_type": "stream",
          "name": "stdout",
          "text": [
            "Requirement already satisfied: pyHSICLasso in /usr/local/lib/python3.11/dist-packages (1.4.2)\n",
            "Requirement already satisfied: future in /usr/local/lib/python3.11/dist-packages (from pyHSICLasso) (1.0.0)\n",
            "Requirement already satisfied: matplotlib in /usr/local/lib/python3.11/dist-packages (from pyHSICLasso) (3.10.0)\n",
            "Requirement already satisfied: numpy in /usr/local/lib/python3.11/dist-packages (from pyHSICLasso) (2.0.2)\n",
            "Requirement already satisfied: pandas in /usr/local/lib/python3.11/dist-packages (from pyHSICLasso) (2.2.2)\n",
            "Requirement already satisfied: pytest in /usr/local/lib/python3.11/dist-packages (from pyHSICLasso) (8.3.5)\n",
            "Requirement already satisfied: scipy in /usr/local/lib/python3.11/dist-packages (from pyHSICLasso) (1.14.1)\n",
            "Requirement already satisfied: six in /usr/local/lib/python3.11/dist-packages (from pyHSICLasso) (1.17.0)\n",
            "Requirement already satisfied: seaborn in /usr/local/lib/python3.11/dist-packages (from pyHSICLasso) (0.13.2)\n",
            "Requirement already satisfied: joblib in /usr/local/lib/python3.11/dist-packages (from pyHSICLasso) (1.4.2)\n",
            "Requirement already satisfied: contourpy>=1.0.1 in /usr/local/lib/python3.11/dist-packages (from matplotlib->pyHSICLasso) (1.3.1)\n",
            "Requirement already satisfied: cycler>=0.10 in /usr/local/lib/python3.11/dist-packages (from matplotlib->pyHSICLasso) (0.12.1)\n",
            "Requirement already satisfied: fonttools>=4.22.0 in /usr/local/lib/python3.11/dist-packages (from matplotlib->pyHSICLasso) (4.56.0)\n",
            "Requirement already satisfied: kiwisolver>=1.3.1 in /usr/local/lib/python3.11/dist-packages (from matplotlib->pyHSICLasso) (1.4.8)\n",
            "Requirement already satisfied: packaging>=20.0 in /usr/local/lib/python3.11/dist-packages (from matplotlib->pyHSICLasso) (24.2)\n",
            "Requirement already satisfied: pillow>=8 in /usr/local/lib/python3.11/dist-packages (from matplotlib->pyHSICLasso) (11.1.0)\n",
            "Requirement already satisfied: pyparsing>=2.3.1 in /usr/local/lib/python3.11/dist-packages (from matplotlib->pyHSICLasso) (3.2.1)\n",
            "Requirement already satisfied: python-dateutil>=2.7 in /usr/local/lib/python3.11/dist-packages (from matplotlib->pyHSICLasso) (2.8.2)\n",
            "Requirement already satisfied: pytz>=2020.1 in /usr/local/lib/python3.11/dist-packages (from pandas->pyHSICLasso) (2025.1)\n",
            "Requirement already satisfied: tzdata>=2022.7 in /usr/local/lib/python3.11/dist-packages (from pandas->pyHSICLasso) (2025.1)\n",
            "Requirement already satisfied: iniconfig in /usr/local/lib/python3.11/dist-packages (from pytest->pyHSICLasso) (2.0.0)\n",
            "Requirement already satisfied: pluggy<2,>=1.5 in /usr/local/lib/python3.11/dist-packages (from pytest->pyHSICLasso) (1.5.0)\n"
          ]
        }
      ],
      "source": [
        "# install pyhsic lasso\n",
        "!pip install pyHSICLasso"
      ]
    },
    {
      "cell_type": "code",
      "source": [
        "import numpy as np\n",
        "import pandas as pd\n",
        "from pyHSICLasso import HSICLasso\n",
        "from sklearn.gaussian_process import GaussianProcessClassifier\n",
        "from sklearn.preprocessing import StandardScaler\n",
        "from sklearn.gaussian_process.kernels import RBF\n",
        "from sklearn.metrics import accuracy_score\n",
        "import matplotlib.pyplot as plt"
      ],
      "metadata": {
        "id": "Z2nFcp_PXhs5"
      },
      "execution_count": 119,
      "outputs": []
    },
    {
      "cell_type": "code",
      "source": [
        "# red score\n",
        "def res_score(features_index, X):\n",
        "  features_values = X[:, features_index]\n",
        "  correlation_matrix = np.corrcoef(features_values, rowvar=False)\n",
        "  m_val = len(features_index)\n",
        "  red = np.sum(np.abs(np.triu(correlation_matrix, k=1)))\n",
        "  return 2 * (red / (m_val * (m_val - 1)))"
      ],
      "metadata": {
        "id": "hK_ljkw7Tkvz"
      },
      "execution_count": 120,
      "outputs": []
    },
    {
      "cell_type": "code",
      "source": [
        "# data process\n",
        "X = pd.read_csv(\"ar10p.csv\")\n",
        "n, p = X.shape\n",
        "p -= 1\n",
        "Y = X.iloc[:, p].values\n",
        "X = X.iloc[:, :p].values\n",
        "\n",
        "#standardisation des données\n",
        "scaler = StandardScaler()\n",
        "X = scaler.fit_transform(X)"
      ],
      "metadata": {
        "id": "2B7BMiUZT-8L"
      },
      "execution_count": 121,
      "outputs": []
    },
    {
      "cell_type": "code",
      "source": [
        "rep = 50\n",
        "features_index = np.arange(10, 51, 10)\n",
        "top_m = features_index[-1]\n",
        "MCAcc = np.zeros((len(features_index), rep))\n",
        "RED_table50 = np.zeros((1, rep))"
      ],
      "metadata": {
        "id": "nkS6juNyYV_L"
      },
      "execution_count": 122,
      "outputs": []
    },
    {
      "cell_type": "code",
      "source": [
        "for i in range(5):\n",
        "  print(i)\n",
        "  x_index = np.random.choice(n, size=int(n * 0.8), replace=False)\n",
        "  X_train, Y_train = X[x_index], Y[x_index]\n",
        "  X_test, Y_test = np.delete(X, x_index, axis=0), np.delete(Y, x_index)\n",
        "\n",
        "  # Sélection de variables avec HSIC Lasso\n",
        "  hsic_lasso = HSICLasso()\n",
        "  hsic_lasso.input(X_train, Y_train,kernelX=\"Gaussian\",sigmaX=1,kernelY=\"Delta\")\n",
        "\n",
        "  hsic_lasso.classification(num_feat=top_m)\n",
        "  ModelFeatureIndex = hsic_lasso.get_index()\n",
        "\n",
        "  for m_index, nb_features in enumerate(features_index):\n",
        "    x_features = ModelFeatureIndex[:nb_features]\n",
        "    # Modèle de classification\n",
        "    kernel = RBF()\n",
        "    model = GaussianProcessClassifier(kernel=kernel,multi_class=\"one_vs_one\")\n",
        "    model.fit(X_train[:, x_features], Y_train)\n",
        "\n",
        "    # Prédiction et évaluation\n",
        "    y_pred = model.predict(X_test[: x_features])\n",
        "    MCAcc[m_index, i] = accuracy_score(Y_test, y_pred)\n",
        "\n",
        "    # Calcul de la redondance\n",
        "    if nb_features == top_m:\n",
        "      RED_table50[0, i] = res_score(x_features, X_train)"
      ],
      "metadata": {
        "colab": {
          "base_uri": "https://localhost:8080/",
          "height": 315
        },
        "id": "8S3O0D-dUMO3",
        "outputId": "9a496a1d-25fb-48e6-ec82-8de4d4fb62fe"
      },
      "execution_count": 123,
      "outputs": [
        {
          "output_type": "stream",
          "name": "stdout",
          "text": [
            "0\n",
            "Block HSIC Lasso B = 20.\n",
            "M set to 3.\n",
            "Using Gaussian kernel for the features, Delta kernel for the outcomes.\n"
          ]
        },
        {
          "output_type": "stream",
          "name": "stderr",
          "text": [
            "/usr/local/lib/python3.11/dist-packages/pyHSICLasso/api.py:107: RuntimeWarning: B 20 must be an exact divisor of the number of samples 104. Number of blocks 5.2 will be approximated to 5.\n",
            "  warnings.warn(msg, RuntimeWarning)\n"
          ]
        },
        {
          "output_type": "error",
          "ename": "TypeError",
          "evalue": "slice indices must be integers or None or have an __index__ method",
          "traceback": [
            "\u001b[0;31m---------------------------------------------------------------------------\u001b[0m",
            "\u001b[0;31mTypeError\u001b[0m                                 Traceback (most recent call last)",
            "\u001b[0;32m<ipython-input-123-cc5e5bb6a72a>\u001b[0m in \u001b[0;36m<cell line: 0>\u001b[0;34m()\u001b[0m\n\u001b[1;32m     20\u001b[0m \u001b[0;34m\u001b[0m\u001b[0m\n\u001b[1;32m     21\u001b[0m     \u001b[0;31m# Prédiction et évaluation\u001b[0m\u001b[0;34m\u001b[0m\u001b[0;34m\u001b[0m\u001b[0m\n\u001b[0;32m---> 22\u001b[0;31m     \u001b[0my_pred\u001b[0m \u001b[0;34m=\u001b[0m \u001b[0mmodel\u001b[0m\u001b[0;34m.\u001b[0m\u001b[0mpredict\u001b[0m\u001b[0;34m(\u001b[0m\u001b[0mX_test\u001b[0m\u001b[0;34m[\u001b[0m\u001b[0;34m:\u001b[0m \u001b[0mx_features\u001b[0m\u001b[0;34m]\u001b[0m\u001b[0;34m)\u001b[0m\u001b[0;34m\u001b[0m\u001b[0;34m\u001b[0m\u001b[0m\n\u001b[0m\u001b[1;32m     23\u001b[0m     \u001b[0mMCAcc\u001b[0m\u001b[0;34m[\u001b[0m\u001b[0mm_index\u001b[0m\u001b[0;34m,\u001b[0m \u001b[0mi\u001b[0m\u001b[0;34m]\u001b[0m \u001b[0;34m=\u001b[0m \u001b[0maccuracy_score\u001b[0m\u001b[0;34m(\u001b[0m\u001b[0mY_test\u001b[0m\u001b[0;34m,\u001b[0m \u001b[0my_pred\u001b[0m\u001b[0;34m)\u001b[0m\u001b[0;34m\u001b[0m\u001b[0;34m\u001b[0m\u001b[0m\n\u001b[1;32m     24\u001b[0m \u001b[0;34m\u001b[0m\u001b[0m\n",
            "\u001b[0;31mTypeError\u001b[0m: slice indices must be integers or None or have an __index__ method"
          ]
        }
      ]
    },
    {
      "cell_type": "code",
      "source": [
        "# Résultats statistiques\n",
        "rmean = MCAcc.mean(axis=1)\n",
        "mean_acc = MCAcc[4, :].mean()\n",
        "std_acc = MCAcc[4, :].std()\n",
        "mean_red = RED_table50.mean()\n",
        "std_red = RED_table50.std()\n",
        "\n",
        "plt.plot(features_index, rmean, color='cyan', linestyle='-', marker='o')\n",
        "plt.ylim(0, 1)\n",
        "plt.show()"
      ],
      "metadata": {
        "id": "wp2QahicUXHr"
      },
      "execution_count": null,
      "outputs": []
    },
    {
      "cell_type": "code",
      "source": [
        "rmean"
      ],
      "metadata": {
        "id": "udhCF_C1kPkL"
      },
      "execution_count": null,
      "outputs": []
    },
    {
      "cell_type": "code",
      "source": [
        "# Sauvegarde des résultats\n",
        "np.savetxt(\"ar10p_hsic_mca.csv\", MCAcc, delimiter=\",\")\n",
        "np.savetxt(\"ar10p_hsic_red50.csv\", RED_table50, delimiter=\",\")"
      ],
      "metadata": {
        "id": "Xaj_977RZvXN"
      },
      "execution_count": null,
      "outputs": []
    }
  ]
}