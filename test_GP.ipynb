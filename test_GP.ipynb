{
 "cells": [
  {
   "cell_type": "code",
   "execution_count": 2,
   "metadata": {},
   "outputs": [],
   "source": [
    "import numpy as np\n",
    "import pandas as pd\n",
    "from sklearn.gaussian_process import GaussianProcessClassifier\n",
    "from sklearn.gaussian_process.kernels import RBF\n",
    "from sklearn.model_selection import train_test_split"
   ]
  },
  {
   "cell_type": "code",
   "execution_count": 15,
   "metadata": {},
   "outputs": [
    {
     "data": {
      "text/plain": [
       "array([154, 194, 152])"
      ]
     },
     "execution_count": 15,
     "metadata": {},
     "output_type": "execute_result"
    }
   ],
   "source": [
    "X = np.random.randn(500, 10)\n",
    "\n",
    "sumX = np.sum(X[:, :4], axis=1)\n",
    "y = np.zeros(500, dtype=int)\n",
    "y[sumX < -1] = 0    # Classe 0 pour les sommes < -1\n",
    "y[(sumX >= -1) & (sumX < 1)] = 1    # Classe 1 pour les sommes entre -1 et 1\n",
    "y[sumX >= 1] = 2    # Classe 2 pour les sommes >= 1\n",
    "unique, counts = np.unique(y, return_counts=True)\n",
    "counts"
   ]
  },
  {
   "cell_type": "code",
   "execution_count": 16,
   "metadata": {},
   "outputs": [],
   "source": [
    "X_train, X_test, y_train, y_test = train_test_split(X, y, test_size=0.2, random_state=42) \n",
    "kernel = 1.0 * RBF(length_scale=1.0)  "
   ]
  },
  {
   "cell_type": "code",
   "execution_count": 18,
   "metadata": {},
   "outputs": [
    {
     "name": "stderr",
     "output_type": "stream",
     "text": [
      "c:\\Users\\alexa\\.pyenv\\pyenv-win\\versions\\3.11.9\\Lib\\site-packages\\sklearn\\gaussian_process\\kernels.py:452: ConvergenceWarning: The optimal value found for dimension 0 of parameter k1__constant_value is close to the specified upper bound 100000.0. Increasing the bound and calling fit again may find a better value.\n",
      "  warnings.warn(\n",
      "c:\\Users\\alexa\\.pyenv\\pyenv-win\\versions\\3.11.9\\Lib\\site-packages\\sklearn\\gaussian_process\\kernels.py:452: ConvergenceWarning: The optimal value found for dimension 0 of parameter k1__constant_value is close to the specified upper bound 100000.0. Increasing the bound and calling fit again may find a better value.\n",
      "  warnings.warn(\n"
     ]
    },
    {
     "data": {
      "text/plain": [
       "array([0, 0, 1, 2, 2, 1, 1, 0, 0, 2, 2, 1, 2, 2, 2, 1, 2, 0, 0, 2, 1, 2,\n",
       "       1, 2, 2, 1, 0, 0, 1, 1, 1, 1, 1, 0, 2, 0, 2, 2, 0, 1, 1, 0, 1, 0,\n",
       "       2, 1, 1, 1, 0, 0, 2, 1, 1, 0, 0, 0, 0, 1, 1, 2, 0, 1, 1, 2, 1, 1,\n",
       "       0, 1, 1, 0, 1, 0, 2, 2, 2, 1, 1, 0, 2, 1, 2, 2, 2, 2, 1, 0, 2, 1,\n",
       "       1, 2, 2, 0, 1, 2, 0, 2, 1, 0, 2, 2])"
      ]
     },
     "execution_count": 18,
     "metadata": {},
     "output_type": "execute_result"
    }
   ],
   "source": [
    "gpc = GaussianProcessClassifier(kernel=kernel,random_state=0,multi_class=\"one_vs_one\")\n",
    "gpc.fit(X_train, y_train)\n",
    "y_pred = gpc.predict(X_test)\n",
    "y_pred"
   ]
  },
  {
   "cell_type": "code",
   "execution_count": 19,
   "metadata": {},
   "outputs": [
    {
     "name": "stdout",
     "output_type": "stream",
     "text": [
      "0.97\n"
     ]
    }
   ],
   "source": [
    "matches = [1 for i in range(len(y_pred)) if y_pred[i] == y_test[i]]\n",
    "accuracy = sum(matches)/len(y_test)\n",
    "\n",
    "print(accuracy)"
   ]
  }
 ],
 "metadata": {
  "kernelspec": {
   "display_name": "3.11.9",
   "language": "python",
   "name": "python3"
  },
  "language_info": {
   "codemirror_mode": {
    "name": "ipython",
    "version": 3
   },
   "file_extension": ".py",
   "mimetype": "text/x-python",
   "name": "python",
   "nbconvert_exporter": "python",
   "pygments_lexer": "ipython3",
   "version": "3.11.9"
  }
 },
 "nbformat": 4,
 "nbformat_minor": 2
}
